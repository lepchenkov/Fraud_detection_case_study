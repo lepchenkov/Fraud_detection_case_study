{
 "cells": [
  {
   "cell_type": "markdown",
   "metadata": {},
   "source": [
    "# Load and test all previously trained models!"
   ]
  },
  {
   "cell_type": "code",
   "execution_count": 61,
   "metadata": {},
   "outputs": [],
   "source": [
    "import os\n",
    "import pickle\n",
    "from os.path import isfile, join\n",
    "import pandas as pd\n",
    "from sklearn.model_selection import train_test_split\n",
    "from sklearn.metrics import roc_auc_score, confusion_matrix, precision_recall_curve\n",
    "from sklearn.metrics import confusion_matrix, f1_score\n"
   ]
  },
  {
   "cell_type": "markdown",
   "metadata": {},
   "source": [
    "### Load all models at once"
   ]
  },
  {
   "cell_type": "code",
   "execution_count": 62,
   "metadata": {},
   "outputs": [
    {
     "name": "stdout",
     "output_type": "stream",
     "text": [
      "['.DS_Store', 'svc_balanced.sav', 'random_forest_model.sav', 'tree_clf_balanced.sav', 'knears_neighbors_balanced.sav', 'catboost_model.sav', 'log_reg_balanced.sav']\n"
     ]
    }
   ],
   "source": [
    "model_dir = 'models/'\n",
    "model_names = [f for f in listdir(model_dir) if isfile(join(model_dir, f))]\n",
    "print(model_names)"
   ]
  },
  {
   "cell_type": "code",
   "execution_count": 63,
   "metadata": {},
   "outputs": [
    {
     "name": "stdout",
     "output_type": "stream",
     "text": [
      ".DS_Store\n",
      "models//.DS_Store : 6.148 Kb\n",
      "\n",
      "\n",
      "svc_balanced.sav\n",
      "models//svc_balanced.sav : 43.475 Kb\n",
      "\n",
      "\n",
      "random_forest_model.sav\n",
      "models//random_forest_model.sav : 168.089 Kb\n",
      "\n",
      "\n",
      "tree_clf_balanced.sav\n",
      "models//tree_clf_balanced.sav : 2.181 Kb\n",
      "\n",
      "\n",
      "knears_neighbors_balanced.sav\n",
      "models//knears_neighbors_balanced.sav : 392.695 Kb\n",
      "\n",
      "\n",
      "catboost_model.sav\n",
      "models//catboost_model.sav : 26796.498 Kb\n",
      "\n",
      "\n",
      "log_reg_balanced.sav\n",
      "models//log_reg_balanced.sav : 1.051 Kb\n",
      "\n",
      "\n"
     ]
    }
   ],
   "source": [
    "def print_file_size(filename):\n",
    "    statinfo = os.stat(filename)\n",
    "    print(filename, ':', statinfo.st_size/1000, 'Kb')\n",
    "    \n",
    "for name in model_names:\n",
    "    print(name)\n",
    "    print_file_size(model_dir + '/' + name)\n",
    "    print('\\n')"
   ]
  },
  {
   "cell_type": "code",
   "execution_count": 64,
   "metadata": {},
   "outputs": [
    {
     "name": "stdout",
     "output_type": "stream",
     "text": [
      "['svc_balanced.sav', 'random_forest_model.sav', 'tree_clf_balanced.sav', 'knears_neighbors_balanced.sav', 'catboost_model.sav', 'log_reg_balanced.sav']\n"
     ]
    }
   ],
   "source": [
    "model_names.remove('.DS_Store')\n",
    "print(model_names)"
   ]
  },
  {
   "cell_type": "markdown",
   "metadata": {},
   "source": [
    "### Load the dataset"
   ]
  },
  {
   "cell_type": "code",
   "execution_count": 65,
   "metadata": {},
   "outputs": [
    {
     "name": "stdout",
     "output_type": "stream",
     "text": [
      "(284807, 31)\n"
     ]
    }
   ],
   "source": [
    "transactions = pd.read_csv('creditcard.csv')\n",
    "print(transactions.shape)\n",
    "X = transactions.drop('Class', 1)\n",
    "y = transactions['Class']"
   ]
  },
  {
   "cell_type": "markdown",
   "metadata": {},
   "source": [
    "### Test the model on the whole dataset"
   ]
  },
  {
   "cell_type": "code",
   "execution_count": 66,
   "metadata": {},
   "outputs": [
    {
     "name": "stdout",
     "output_type": "stream",
     "text": [
      "svc_balanced.sav\n",
      "<class 'sklearn.svm.classes.SVC'>\n",
      "[[284307      8]\n",
      " [   492      0]]\n",
      "\n",
      "\n",
      "random_forest_model.sav\n",
      "<class 'sklearn.ensemble.forest.RandomForestClassifier'>\n",
      "[[284300     15]\n",
      " [    96    396]]\n",
      "\n",
      "\n",
      "tree_clf_balanced.sav\n",
      "<class 'sklearn.tree.tree.DecisionTreeClassifier'>\n",
      "[[243884  40431]\n",
      " [   473     19]]\n",
      "\n",
      "\n",
      "knears_neighbors_balanced.sav\n",
      "<class 'sklearn.neighbors.classification.KNeighborsClassifier'>\n",
      "[[284315      0]\n",
      " [   492      0]]\n",
      "\n",
      "\n",
      "catboost_model.sav\n",
      "<class 'catboost.core.CatBoostClassifier'>\n",
      "[[284311      4]\n",
      " [    55    437]]\n",
      "\n",
      "\n",
      "log_reg_balanced.sav\n",
      "<class 'sklearn.linear_model.logistic.LogisticRegression'>\n",
      "[[284311      4]\n",
      " [   492      0]]\n",
      "\n",
      "\n"
     ]
    }
   ],
   "source": [
    "def load_model(model_name):\n",
    "    loaded_model = pickle.load(open(model_dir + '/' + str(model_name), 'rb'))\n",
    "    return loaded_model\n",
    "\n",
    "def model_performance_report(model_name, X, y):\n",
    "    model = load_model(model_name)\n",
    "    predictions = model.predict(X)\n",
    "    print(confusion_matrix(y, predictions))\n",
    "    \n",
    "# for model_name in model_names:\n",
    "#     model_performance_report(model_name, X, y)\n",
    "\n",
    "for model_name in model_names:\n",
    "    print(model_name)\n",
    "    model = load_model(model_name)\n",
    "    print(type(model))\n",
    "    predictions = model.predict(X)\n",
    "    print(confusion_matrix(y, predictions))\n",
    "#     model = load_model(model_name)\n",
    "#     print(type(model))\n",
    "#     model_performance_report(model, X, y)\n",
    "    print('\\n')\n"
   ]
  },
  {
   "cell_type": "markdown",
   "metadata": {},
   "source": [
    "Note: only two out of four models are suited to work with the raw dataset. We have to build pre-processing pipeline in order to make the rest of the models to classify correctly. "
   ]
  }
 ],
 "metadata": {
  "kernelspec": {
   "display_name": "Python 3",
   "language": "python",
   "name": "python3"
  },
  "language_info": {
   "codemirror_mode": {
    "name": "ipython",
    "version": 3
   },
   "file_extension": ".py",
   "mimetype": "text/x-python",
   "name": "python",
   "nbconvert_exporter": "python",
   "pygments_lexer": "ipython3",
   "version": "3.7.4"
  }
 },
 "nbformat": 4,
 "nbformat_minor": 2
}
